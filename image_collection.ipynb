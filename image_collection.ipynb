{
 "cells": [
  {
   "cell_type": "code",
   "execution_count": 1,
   "metadata": {},
   "outputs": [],
   "source": [
    "import cv2\n",
    "import uuid\n",
    "import os\n",
    "import time"
   ]
  },
  {
   "cell_type": "code",
   "execution_count": 2,
   "metadata": {},
   "outputs": [],
   "source": [
    "labels = ['rock', 'paper', 'scissors', 'fuck_you', 'sheeeesh']\n",
    "num_items = 5\n",
    "IMAGES_PATH = os.path.join('assets', 'images')"
   ]
  },
  {
   "cell_type": "code",
   "execution_count": 3,
   "metadata": {},
   "outputs": [],
   "source": [
    "if not os.path.exists(IMAGES_PATH):\n",
    "    !mkdir -p {IMAGES_PATH}\n",
    "\n",
    "for label in labels:\n",
    "    path = os.path.join(IMAGES_PATH, label)\n",
    "    if not os.path.exists(path):\n",
    "        !mkdir {path}"
   ]
  },
  {
   "cell_type": "code",
   "execution_count": 4,
   "metadata": {},
   "outputs": [
    {
     "name": "stdout",
     "output_type": "stream",
     "text": [
      "Collection image for rock :\n",
      "Collection image  1\n",
      "Collection image  2\n",
      "Collection image  3\n",
      "Collection image  4\n",
      "Collection image  5\n",
      "Collection image  6\n",
      "Collection image  7\n",
      "Collection image for paper :\n",
      "Collection image  1\n",
      "Collection image  2\n",
      "Collection image  3\n",
      "Collection image  4\n",
      "Collection image  5\n",
      "Collection image  6\n",
      "Collection image  7\n",
      "Collection image for scissors :\n",
      "Collection image  1\n",
      "Collection image  2\n",
      "Collection image  3\n",
      "Collection image  4\n",
      "Collection image  5\n",
      "Collection image  6\n",
      "Collection image  7\n",
      "Collection image for fuck_you :\n",
      "Collection image  1\n",
      "Collection image  2\n",
      "Collection image  3\n",
      "Collection image  4\n",
      "Collection image  5\n",
      "Collection image  6\n",
      "Collection image  7\n",
      "Collection image for sheeeesh :\n",
      "Collection image  1\n",
      "Collection image  2\n",
      "Collection image  3\n",
      "Collection image  4\n",
      "Collection image  5\n",
      "Collection image  6\n",
      "Collection image  7\n"
     ]
    }
   ],
   "source": [
    "for label in labels:\n",
    "    print('Collection image for ' + label + ' :')\n",
    "    time.sleep(3)\n",
    "\n",
    "    for item in range(7):\n",
    "        cam = cv2.VideoCapture(-1)\n",
    "        print('Collection image ', item+1)\n",
    "        ret, frame = cam.read()\n",
    "        imgname = os.path.join(IMAGES_PATH,label,label+'.'+'{}.jpg'.format(str(uuid.uuid1())))\n",
    "        cv2.imwrite(imgname, frame)\n",
    "        cv2.imshow('frame', frame)\n",
    "        time.sleep(3)\n",
    "\n",
    "        if cv2.waitKey(1) & 0xFF == ord('q'):\n",
    "            break\n",
    "\n",
    "        cam.release()\n",
    "        cv2.destroyAllWindows()\n"
   ]
  },
  {
   "cell_type": "code",
   "execution_count": 9,
   "metadata": {},
   "outputs": [],
   "source": [
    "LABELING_PATH = os.path.join('assets', 'labels')"
   ]
  },
  {
   "cell_type": "code",
   "execution_count": null,
   "metadata": {},
   "outputs": [],
   "source": []
  }
 ],
 "metadata": {
  "kernelspec": {
   "display_name": "tf-object-detection",
   "language": "python",
   "name": "tf-object-detection"
  },
  "language_info": {
   "codemirror_mode": {
    "name": "ipython",
    "version": 3
   },
   "file_extension": ".py",
   "mimetype": "text/x-python",
   "name": "python",
   "nbconvert_exporter": "python",
   "pygments_lexer": "ipython3",
   "version": "3.10.5"
  },
  "orig_nbformat": 4
 },
 "nbformat": 4,
 "nbformat_minor": 2
}
